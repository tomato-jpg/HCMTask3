{
 "cells": [
  {
   "cell_type": "markdown",
   "id": "7534d168",
   "metadata": {},
   "source": [
    "##  **Analysing PCA Variations in Hypertrophic Cardiomyopathy Patients**"
   ]
  },
  {
   "cell_type": "markdown",
   "id": "de39114b",
   "metadata": {},
   "source": [
    "This code is to explore developing PCA variations on a single frame. \n",
    "- We are taking only the End-Diastolic frame, which is always the first frame *(e.g. HCMR_abc_efg_Model_Frame_000.txt)*\n",
    "- The PCA is going to be performed on the control point matrix (not the surface points), which means we are going to use 388 vertices as the input for PCA.  \n",
    "\n",
    "For 100 patients, our input will be 100 x 1,164 matrix because the row will be [x1, y1, z1, x2, y2, z2, ..., x388, y388, z388] vector. \n",
    "\n",
    "We will calculate the average or mean shape by using the Procrustes analysis. \n",
    "When we are doing the Procrustes analysis, we will be keeping the size. This means we are aligning the shapes using orientation and translation only.\n",
    "- The reason for keeping the size because size is a clinical factor for heart disease. So we don’t want to remove it from the data. \n",
    "\n",
    "We will then be visualising the mean shape. \n",
    "\n",
    "Then we will perform the PCA on after subtracting each patient shape with the mean shape while retaining only the first 5 principal components for the analysis. \n",
    "And we will analyse how the modes of shape variations from the first 5 principal components (between –2 SD to +2 SD)."
   ]
  },
  {
   "cell_type": "code",
   "execution_count": 1,
   "id": "a370aba8",
   "metadata": {},
   "outputs": [],
   "source": [
    "# Importing all the required libraries and file directories\n",
    "\n",
    "import os\n",
    "import numpy as np\n",
    "from pathlib import Path\n",
    "import shutil\n",
    "import pandas as pd\n",
    "from loguru import logger\n",
    "from typing import List\n",
    "import matplotlib.pyplot as plt\n",
    "import pyvista as pv\n",
    "import pyvista as pv\n",
    "%matplotlib inline\n",
    "from sklearn.decomposition import PCA\n",
    "from sklearn.preprocessing import StandardScaler"
   ]
  },
  {
   "cell_type": "markdown",
   "id": "541b6d89",
   "metadata": {},
   "source": [
    "1) Taking only the End Diastolic (ED) Frame from the data set and putting them all into one folder called 'ed_models' for easier analysis:\n",
    "- *Ignored HCMR_002_0020_Model_Frame_000.txt as it was found to be a faulty file*"
   ]
  },
  {
   "cell_type": "code",
   "execution_count": 2,
   "id": "c196fc68",
   "metadata": {},
   "outputs": [
    {
     "name": "stdout",
     "output_type": "stream",
     "text": [
      "Found 0 ED models before filtering\n",
      "Copied 0 files to ./ed_models/ folder\n"
     ]
    }
   ],
   "source": [
    "data_dir = Path('.')  # Set the data directory to the current directory\n",
    "\n",
    "# Function to ignore faulty files\n",
    "def should_ignore_file(filename):\n",
    "    \"\"\"Check if filename contains 'ignore' (case-insensitive)\"\"\"\n",
    "    return 'ignore' in filename.lower()\n",
    "\n",
    "# Create the folder\n",
    "Path('./ed_models/').mkdir(exist_ok=True)\n",
    "\n",
    "# Get only the first frame (ED frame) model\n",
    "ed_models = list(Path('../HCMR_100_1/').glob('HCMR_*/HCMR_*_Frame_000.txt'))\n",
    "print(f\"Found {len(ed_models)} ED models before filtering\")\n",
    "\n",
    "# Copy ED models to the new folder (ignoring files with 'ignore' in name)\n",
    "copied_count = 0\n",
    "for ed_file in ed_models:\n",
    "    if not should_ignore_file(ed_file.name):\n",
    "        shutil.copy(ed_file, './ed_models/')\n",
    "        copied_count += 1\n",
    "    else:\n",
    "        print(f\"Ignoring file: {ed_file.name}\")\n",
    "\n",
    "print(f'Copied {copied_count} files to ./ed_models/ folder')"
   ]
  },
  {
   "cell_type": "markdown",
   "id": "3eef367c",
   "metadata": {},
   "source": [
    "2) Making it into a n x 1164 matrix for n patients:\n",
    "- 99x1164 for 99 patients"
   ]
  },
  {
   "cell_type": "code",
   "execution_count": 3,
   "id": "8e7aa983",
   "metadata": {},
   "outputs": [],
   "source": [
    "def load_patient_data(data_dir: Path) -> np.ndarray:\n",
    "    \"\"\"\n",
    "    Load CSV data (x,y,z,extra) from n patients into a n×1164 matrix.\n",
    "    Skips the first row (header) and only uses the first 3 columns.\n",
    "    \n",
    "    \"\"\"\n",
    "    # Getting all patient files in the 'ed_models' directory and raises error if none are found\n",
    "    patient_files = sorted((data_dir / 'ed_models').glob('HCMR_*_Frame_000.txt')) \n",
    "\n",
    "    if not patient_files:\n",
    "        raise ValueError(f\"No files found in {data_dir/'ed_models'}\")\n",
    "    \n",
    "    n_patients = len(patient_files) \n",
    "    all_patients = np.zeros((n_patients, 388*3)) # 388 points, 3 coordinates (x,y,z)\n",
    "    \n",
    "    for i, file in enumerate(patient_files): \n",
    "        try:\n",
    "            # Load CSV, skip header, use only first 3 columns\n",
    "            patient_data = np.loadtxt(\n",
    "                file,\n",
    "                delimiter=',',  # Split on commas\n",
    "                skiprows=1,     # Skip header\n",
    "                usecols=(0, 1, 2)  # Only keep columns 0, 1, 2 (x, y, z)\n",
    "            )\n",
    "            \n",
    "            # Check if the data has the expected shape (388, 3) if not raise error\n",
    "            if patient_data.shape != (388, 3): \n",
    "                raise ValueError(f\"Expected (388, 3), got {patient_data.shape} in {file.name}\") \n",
    "            \n",
    "            all_patients[i] = patient_data.ravel() \n",
    "            \n",
    "        except Exception as e:\n",
    "            print(f\"Error in {file.name}: {e}\") \n",
    "            raise\n",
    "    \n",
    "    print(f\"Loaded {n_patients} patients (shape: {all_patients.shape})\") \n",
    "    return all_patients"
   ]
  },
  {
   "cell_type": "code",
   "execution_count": 4,
   "id": "0bc0d340",
   "metadata": {},
   "outputs": [
    {
     "name": "stdout",
     "output_type": "stream",
     "text": [
      "Loaded 99 patients (shape: (99, 1164))\n",
      "Patient matrix shape: (99, 1164)\n",
      "\n",
      "Full dataset saved to 'all_patients_flattened.txt'\n"
     ]
    }
   ],
   "source": [
    "patient_matrix = load_patient_data(data_dir)\n",
    "print(f\"Patient matrix shape: {patient_matrix.shape}\")\n",
    "\n",
    "output_csv = Path(\"all_patients_flattened.txt\")\n",
    "np.savetxt(output_csv, patient_matrix, delimiter=',', \n",
    "           header=\",\".join([f\"{axis}{i}\" for i in range(1, 389) for axis in [\"x\", \"y\", \"z\"]]),\n",
    "           comments=\"\",\n",
    "           fmt='%.6f')\n",
    "\n",
    "print(f\"\\nFull dataset saved to '{output_csv}'\")"
   ]
  },
  {
   "cell_type": "markdown",
   "id": "95ec20fe",
   "metadata": {},
   "source": [
    "3) Getting the mean shape using Procrustes analysis (with rotation and translation only, no scaling):\n",
    "- (Generalized) Procrustes analysis with Python/NumPy\n",
    "    - The general idea is to analyse the statistical shape variation, aka to find a degree of similarity between different shapes in a set. \n",
    "\n",
    "    - If there’s a reference shape present, and all the other shapes are compared to it, we have ourselves what is referred to as classical Procrustes analysis. \n",
    "\n",
    "    - If what we’re dealing with is just a bunch of shapes floating around, and there’s no info suggesting a good candidate to be chosen for reference shape, the problem is referred to as generalized Procrustes analysis.\n",
    "\n",
    "    - Procrustes analysis aligns shapes point by point, so it is necessary to preserve the same relative order of vertices."
   ]
  },
  {
   "cell_type": "code",
   "execution_count": 5,
   "id": "b6d29027",
   "metadata": {},
   "outputs": [],
   "source": [
    "def procrustes_rotation_translation_only(A: np.ndarray, B: np.ndarray) -> tuple:\n",
    "    \"\"\"Procrustes alignment (rotation + translation only).\"\"\"\n",
    "    A_centered = A - np.mean(A, axis=0)\n",
    "    B_centered = B - np.mean(B, axis=0)\n",
    "    H = B_centered.T @ A_centered # Covariance matrix\n",
    "    U, _, Vt = np.linalg.svd(H) # Singular Value Decomposition\n",
    "    R = Vt.T @ U.T # Rotation matrix\n",
    "\n",
    "    if np.linalg.det(R) < 0:\n",
    "        Vt[-1, :] *= -1 \n",
    "        R = Vt.T @ U.T\n",
    "\n",
    "    aligned_B = (B_centered @ R) + np.mean(A, axis=0)\n",
    "    return A, aligned_B, np.linalg.norm(A - aligned_B)\n",
    "\n",
    "def generalized_procrustes_analysis(shapes: List[np.ndarray], max_iter: int = 50, tol: float = 1e-6) -> np.ndarray: \n",
    "    \"\"\"Compute mean shape using Procrustes analysis.\"\"\"\n",
    "    mean_shape = shapes[0].copy() \n",
    "    for _ in range(max_iter): # Iterate until convergence or max_iter\n",
    "        \n",
    "        # Align all shapes to the current mean shape \n",
    "        aligned = []\n",
    "        for shape in shapes:\n",
    "            _, aligned_shape, _ = procrustes_rotation_translation_only(mean_shape, shape) \n",
    "            aligned.append(aligned_shape) \n",
    "        new_mean = np.mean(aligned, axis=0)\n",
    "        if np.linalg.norm(new_mean - mean_shape) < tol: \n",
    "            break\n",
    "        mean_shape = new_mean \n",
    "    return mean_shape\n",
    "\n",
    "def load_shapes_from_matrix(input_file: Path) -> List[np.ndarray]: \n",
    "    \"\"\"\n",
    "    Load shapes from a single n x 1164 text file and reshape each row to (388, 3).\n",
    "    \"\"\"\n",
    "    data = np.loadtxt(input_file, delimiter=\",\", skiprows=1)  # Skip header row as it contains the XYZ labels\n",
    "    if data.shape[1] != 1164:\n",
    "        raise ValueError(f\"Input file should have 1164 columns (388x3), but got {data.shape[1]}\")\n",
    "    \n",
    "    shapes = [row.reshape(388, 3) for row in data] \n",
    "    return shapes\n",
    "\n",
    "\n",
    "def run_procrustes_analysis(input_file: Path) -> tuple[Path, List[np.ndarray], List[float]]:\n",
    "    \"\"\"\n",
    "    Run Procrustes analysis:\n",
    "    - Save unflattened mean shape to a .txt file (388x3)\n",
    "    - Return:\n",
    "        - path to saved mean shape file,\n",
    "        - list of aligned shapes (as np.ndarray),\n",
    "        - list of Procrustes alignment errors (floats)\n",
    "    \"\"\"\n",
    "    rv_shapes = load_shapes_from_matrix(input_file)\n",
    "    print(f\"Loaded {len(rv_shapes)} patients\")\n",
    "\n",
    "    mean_shape = rv_shapes[0].copy()\n",
    "    aligned_shapes = []\n",
    "    distances = []\n",
    " \n",
    "    # We are trying to compute a stable, unbiased mean shape that represents the true average structure across all subjects\n",
    "    # after removing pose variation (rotation + translation).\n",
    "    # Thus, we will use the Procrustes method to align all shapes to the mean shape iteratively.\n",
    "    # Iterate until convergence or max iterations\n",
    "    for _ in range(50):  # Max iterations\n",
    "        aligned_shapes = []\n",
    "        distances = []\n",
    "        for shape in rv_shapes:\n",
    "            _, aligned, dist = procrustes_rotation_translation_only(mean_shape, shape)\n",
    "            aligned_shapes.append(aligned)\n",
    "            distances.append(dist)\n",
    "        new_mean = np.mean(aligned_shapes, axis=0)\n",
    "        if np.linalg.norm(new_mean - mean_shape) < 1e-6:\n",
    "            break\n",
    "        mean_shape = new_mean\n",
    "\n",
    "    # Save mean shape to file\n",
    "    output_file = Path(\"mean_biventricular_shape_unflattened.txt\")\n",
    "    np.savetxt(\n",
    "        output_file,\n",
    "        mean_shape,\n",
    "        delimiter=\",\",\n",
    "        fmt=\"%.6f\",\n",
    "        header=\"X,Y,Z\",\n",
    "        comments=\"\"\n",
    "    )\n",
    "    print(f\"Unflattened mean shape saved to {output_file}\")\n",
    "\n",
    "    return output_file, aligned_shapes, distances\n"
   ]
  },
  {
   "cell_type": "markdown",
   "id": "86c84a31",
   "metadata": {},
   "source": [
    "Running the procrustes analysis, the input file is the nx1164 flattened patient data (99x1164 in this case):"
   ]
  },
  {
   "cell_type": "code",
   "execution_count": 6,
   "id": "69731461",
   "metadata": {},
   "outputs": [
    {
     "name": "stdout",
     "output_type": "stream",
     "text": [
      "Loaded 99 patients\n",
      "Unflattened mean shape saved to mean_biventricular_shape_unflattened.txt\n",
      "Number of aligned shapes: 99\n",
      "Number of alignment error: 99\n",
      "Number of distances:(99,)\n",
      "Mean alignment error: 564.5010\n"
     ]
    }
   ],
   "source": [
    "# Run GPA\n",
    "mean_file, aligned_shapes, distances = run_procrustes_analysis(Path(\"all_patients_flattened.txt\"))\n",
    "\n",
    "\n",
    "#To check we have the right number of aligned shapes as output\n",
    "print(f\"Number of aligned shapes: {len(aligned_shapes)}\")\n",
    "\n",
    "\n",
    "# Procrustes distance: How far each shape is from the mean\n",
    "# Useful to assess convergence or variation\n",
    "# Exporting it for further analysis\n",
    "print(f\"Number of alignment error: {len(distances)}\")\n",
    "np.savetxt(Path(\"GPA_distances.txt\"), distances, delimiter=\",\", fmt=\"%.6f\", header=\"Procrustes distance\", comments=\"\")\n",
    "print(f\"Number of distances:{np.array(distances).shape}\")\n",
    "\n",
    "\n",
    "# Tells us how similar our aligned shapes are to the mean shape. In other words, how consistent our data set is.\n",
    "print(f\"Mean alignment error: {np.mean(distances):.4f}\")\n",
    "\n"
   ]
  },
  {
   "cell_type": "code",
   "execution_count": 7,
   "id": "6077953d",
   "metadata": {},
   "outputs": [
    {
     "data": {
      "text/plain": [
       "<Figure size 800x500 with 0 Axes>"
      ]
     },
     "metadata": {},
     "output_type": "display_data"
    },
    {
     "data": {
      "image/png": "[encoded data removed]",
      "text/plain": [
       "<Figure size 800x500 with 1 Axes>"
      ]
     },
     "metadata": {},
     "output_type": "display_data"
    }
   ],
   "source": [
    "# Plotting the Procrustes distances as box-and-whisker plot for visualisation and analysis\n",
    "\n",
    "plt.figure(figsize=(8, 5))\n",
    "\n",
    "mean_error = np.mean(distances)\n",
    "q1 = np.percentile(distances, 25)  # First quartile (25th percentile)\n",
    "q3 = np.percentile(distances, 75)  # Third quartile (75th percentile)\n",
    "min_error = np.min(distances)  # Minimum error (bottom of whiskers)\n",
    "max_error = np.max(distances)  # Maximum error (top of whiskers)\n",
    "\n",
    "plt.figure(figsize=(8, 5))\n",
    "\n",
    "# Create the boxplot\n",
    "plt.boxplot(distances, patch_artist=True, boxprops=dict(facecolor='skyblue', color='black'),\n",
    "            whiskerprops=dict(color='black'), flierprops=dict(marker='o', color='red', markersize=5))\n",
    "\n",
    "# Add the mean error as a label\n",
    "plt.scatter(1, mean_error, color='orange', zorder=5)  # Place mean as an orange dot\n",
    "plt.text(1.05, mean_error, f'Mean: {mean_error:.2f}', fontsize=12, color='orange', va='center')\n",
    "\n",
    "# Add quartile and min/max labels\n",
    "plt.text(1.05, q1, f'Q1: {q1:.2f}', fontsize=12, color='blue', va='center')\n",
    "plt.text(1.05, q3, f'Q3: {q3:.2f}', fontsize=12, color='blue', va='center')\n",
    "plt.text(1.05, min_error, f'Min: {min_error:.2f}', fontsize=12, color='green', va='center')\n",
    "plt.text(1.05, max_error, f'Max: {max_error:.2f}', fontsize=12, color='green', va='center')\n",
    "\n",
    "# Title and labels\n",
    "plt.title(\"Box-and-Whisker Plot of Alignment Errors\", fontsize=14)\n",
    "plt.ylabel(\"Alignment Error (Normalised)\", fontsize=12)\n",
    "\n",
    "plt.tight_layout()\n",
    "plt.show()"
   ]
  },
  {
   "cell_type": "markdown",
   "id": "98bdb8f9",
   "metadata": {},
   "source": [
    "4) Visualising the mean shape:\n",
    "- The line below called other files (main.py) and (biv_plots.py) to plot the mean shape"
   ]
  },
  {
   "cell_type": "code",
   "execution_count": 8,
   "id": "937595b2",
   "metadata": {},
   "outputs": [],
   "source": [
    "!python main.py plot biv mean_biventricular_shape_unflattened.txt"
   ]
  },
  {
   "cell_type": "markdown",
   "id": "9039c861",
   "metadata": {},
   "source": [
    "5) Performing Principal Component Analysis (PCA) and retrieving n PCs (5 in this case):\n",
    "- The code accepts the flattened nx1164 patient data and unflattened 388x3 mean shape data\n",
    "- It outputs the top n PCs (eigenvectors) and the corresponding eigenvalues (to be used for next step)\n",
    "- It also outputs the corresponding variance ratios for data analysis"
   ]
  },
  {
   "cell_type": "code",
   "execution_count": 9,
   "id": "35e437d1",
   "metadata": {},
   "outputs": [],
   "source": [
    "\n",
    "def load_and_center_data(mean_shape, aligned_shapes, n_points):\n",
    "    \"\"\"\n",
    "    Center the aligned shapes by subtracting the mean shape.\n",
    "    \"\"\"\n",
    "    # Flatten the mean shape (388 x 3) to a 1D array for easy subtraction\n",
    "    mean_flattened = mean_shape.flatten()\n",
    "    \n",
    "    # Center the data (aligned shapes) by subtracting the mean shape\n",
    "    centered_data = []\n",
    "    for shape in aligned_shapes:\n",
    "        centered_data.append(shape.flatten() - mean_flattened)\n",
    "    \n",
    "    centered_data = np.array(centered_data)  # Convert to a numpy array\n",
    "    return centered_data\n",
    "\n",
    "def run_pca_analysis(centered_data, n_components):\n",
    "\n",
    "    # Perform PCA (without standardizing the data)\n",
    "    pca = PCA(n_components=n_components)\n",
    "    pca.fit(centered_data)\n",
    "\n",
    "    # Extract results\n",
    "    eigenvalues = pca.explained_variance_\n",
    "    eigenvectors = pca.components_\n",
    "    variance_ratios = pca.explained_variance_ratio_\n",
    "    cumulative_variance = variance_ratios.cumsum()\n",
    "\n",
    "    # Create summary table (avoid name conflict!)\n",
    "    variance_summary_df = pd.DataFrame({\n",
    "        'PC': [f\"PC{i+1}\" for i in range(n_components)],\n",
    "        'Eigenvalue': eigenvalues,\n",
    "        'Variance_Ratio': variance_ratios,\n",
    "        'Cumulative_Variance': cumulative_variance\n",
    "    })\n",
    "\n",
    "    # Confirm the shapes\n",
    "    print(f\"Shape of eigenvectors (PCs): {eigenvectors.shape}\")\n",
    "    print(f\"Shape of eigenvalues: {eigenvalues.shape}\")\n",
    "    print(f\"Shape of variance ratios: {variance_ratios.shape}\")\n",
    "\n",
    "    return eigenvalues, eigenvectors, variance_ratios, cumulative_variance, variance_summary_df"
   ]
  },
  {
   "cell_type": "code",
   "execution_count": 10,
   "id": "7b3a25e8",
   "metadata": {},
   "outputs": [
    {
     "name": "stdout",
     "output_type": "stream",
     "text": [
      "Shape of eigenvectors (PCs): (5, 1164)\n",
      "Shape of eigenvalues: (5,)\n",
      "Shape of variance ratios: (5,)\n",
      "    PC    Eigenvalue  Variance_Ratio  Cumulative_Variance\n",
      "0  PC1  50283.742680        0.404796             0.404796\n",
      "1  PC2  35082.607084        0.282423             0.687219\n",
      "2  PC3  18545.109692        0.149292             0.836512\n",
      "3  PC4   7605.448647        0.061226             0.897737\n",
      "4  PC5   1851.818928        0.014908             0.912645\n"
     ]
    }
   ],
   "source": [
    "aligned_shapes_array= np.array(aligned_shapes) # Taking aligned shapes from GPA output\n",
    "PC = 5 # Number of principal components to keep\n",
    "n_points = 388 # Number of points in the shape (x,y,z)\n",
    "\n",
    "#Cheacking the shape of the mean shape to make sure it is correct (PC x 1164)\n",
    "mean_shape = np.loadtxt(\"mean_biventricular_shape_unflattened.txt\", delimiter=\",\", skiprows=1)  \n",
    "\n",
    "# Center the data\n",
    "centered_data = load_and_center_data(mean_shape, aligned_shapes_array, n_points)\n",
    "\n",
    "# Run PCA on the centered data\n",
    "eigenvalues, eigenvectors, variance_ratios, cumulative_variance, variance_df = run_pca_analysis(centered_data, PC)\n",
    "\n",
    "# Print the variance summary\n",
    "print(variance_df.to_string())\n"
   ]
  },
  {
   "cell_type": "markdown",
   "id": "2a2ff926",
   "metadata": {},
   "source": [
    "6) Analysing the modes of shape variations from the top n PCs (5 in this case), between +2SD to -2SD:\n",
    "- The eigenvector (PC) tells the direction of variation.\n",
    "- The eigenvalue gives the variance magnitude (its square root is the standard deviation).\n",
    "- Adding/subtracting ±2 × sqrt(eigenvalue) × eigenvector to the mean shape (flattened) gives you shapes at ±2 SD along that PC."
   ]
  },
  {
   "cell_type": "code",
   "execution_count": 11,
   "id": "b5401377",
   "metadata": {},
   "outputs": [],
   "source": [
    "def variation_shapes(mean_shape, eigenvectors, eigenvalues, n_components, n_points, k, output_dir=\".\"):\n",
    "    \"\"\"\n",
    "    mean_shape: Mean shape from GPA\n",
    "    eigenvectors: Eigenvectors from PCA\n",
    "    eigenvalues: Eigenvalues from PCA\n",
    "    n_components: PC from PCA\n",
    "    n_points: Number of points in the shape from PCA\n",
    "    \n",
    "    For each of the top N PCs, generate ± k SD shapes and save them as .txt files.\n",
    "    \"\"\"\n",
    "    mean_flat = mean_shape.flatten()\n",
    "\n",
    "    for i in range(n_components):\n",
    "        std_dev = np.sqrt(eigenvalues[i])\n",
    "        pc_vector = eigenvectors[i]\n",
    "\n",
    "        # Generate shapes\n",
    "        minus_2sd = mean_flat - (k * std_dev * pc_vector)\n",
    "        plus_2sd  = mean_flat + (k * std_dev * pc_vector)\n",
    "\n",
    "        # Reshape back to (388, 3)\n",
    "        minus_shape = minus_2sd.reshape(n_points, 3)\n",
    "        plus_shape  = plus_2sd.reshape(n_points, 3)\n",
    "\n",
    "        # Save each shape\n",
    "        minus_filename = f\"{output_dir}/PC{i+1}_minus_2SD.txt\"\n",
    "        plus_filename  = f\"{output_dir}/PC{i+1}_plus_2SD.txt\"\n",
    "\n",
    "        np.savetxt(minus_filename, minus_shape, delimiter=\",\", fmt=\"%.6f\", header=\"X,Y,Z\", comments=\"\")\n",
    "        np.savetxt(plus_filename,  plus_shape,  delimiter=\",\", fmt=\"%.6f\", header=\"X,Y,Z\", comments=\"\")\n",
    "\n",
    "        print(f\"Saved {minus_filename}\")\n",
    "        print(f\"Saved {plus_filename}\")\n"
   ]
  },
  {
   "cell_type": "code",
   "execution_count": 12,
   "id": "3118c768",
   "metadata": {},
   "outputs": [
    {
     "name": "stdout",
     "output_type": "stream",
     "text": [
      "Saved ./PC1_minus_2SD.txt\n",
      "Saved ./PC1_plus_2SD.txt\n",
      "Saved ./PC2_minus_2SD.txt\n",
      "Saved ./PC2_plus_2SD.txt\n",
      "Saved ./PC3_minus_2SD.txt\n",
      "Saved ./PC3_plus_2SD.txt\n",
      "Saved ./PC4_minus_2SD.txt\n",
      "Saved ./PC4_plus_2SD.txt\n",
      "Saved ./PC5_minus_2SD.txt\n",
      "Saved ./PC5_plus_2SD.txt\n"
     ]
    }
   ],
   "source": [
    "n_components = PC\n",
    "k = 2\n",
    "variation_shapes(mean_shape, eigenvectors, eigenvalues, n_components, n_points, k) \n"
   ]
  },
  {
   "cell_type": "markdown",
   "id": "383447f2",
   "metadata": {},
   "source": [
    "Visualising the shape variations:"
   ]
  },
  {
   "cell_type": "code",
   "execution_count": 15,
   "id": "aa4f5a2b",
   "metadata": {},
   "outputs": [],
   "source": [
    "!python main.py plot biv PC1_minus_2SD.txt\n",
    "\n",
    "# Change 'PC1_minus_2SD.txt' to the name of the file you want to plot\n",
    "# e.g. 'PC1_plus_2SD.txt', 'PC2_minus_2SD.txt', etc."
   ]
  },
  {
   "cell_type": "markdown",
   "id": "ae592199-5f71-4645-888f-e1a8d162dc15",
   "metadata": {},
   "source": [
    "To get volumes and masses:"
   ]
  },
  {
   "cell_type": "code",
   "execution_count": 14,
   "id": "ff352e55",
   "metadata": {},
   "outputs": [
    {
     "name": "stdout",
     "output_type": "stream",
     "text": [
      "{\n",
      "    'lv_vol': 151.07342471434438,\n",
      "    'rv_vol': 133.61452045635696,\n",
      "    'lv_epi_vol': 293.1543279579437,\n",
      "    'rv_epi_vol': 170.8004960214167,\n",
      "    'lv_mass': 149.18494840577927,\n",
      "    'rv_mass': 39.04527434331274\n",
      "}\n"
     ]
    },
    {
     "name": "stderr",
     "output_type": "stream",
     "text": [
      "\u001b[32m2025-05-05 23:51:38.314\u001b[0m | \u001b[1mINFO    \u001b[0m | \u001b[36mbiv_measures\u001b[0m:\u001b[36mcompute_volume\u001b[0m:\u001b[36m22\u001b[0m - \u001b[1mComputing volumes and masses of mean_biventricular_shape_unflattened.txt\u001b[0m\n"
     ]
    }
   ],
   "source": [
    "!python main.py volumes mean_biventricular_shape_unflattened.txt\n",
    "\n",
    "# Change 'mean_biventricular_shape_unflattened.txt' to the name of the file you want the volumes of \n",
    "# volumes are in ml and masses are in gr"
   ]
  },
  {
   "cell_type": "code",
   "execution_count": null,
   "id": "d31ca6b4-df46-4385-8833-389b5bf795e9",
   "metadata": {},
   "outputs": [],
   "source": []
  }
 ],
 "metadata": {
  "kernelspec": {
   "display_name": "Python 3 (ipykernel)",
   "language": "python",
   "name": "python3"
  },
  "language_info": {
   "codemirror_mode": {
    "name": "ipython",
    "version": 3
   },
   "file_extension": ".py",
   "mimetype": "text/x-python",
   "name": "python",
   "nbconvert_exporter": "python",
   "pygments_lexer": "ipython3",
   "version": "3.12.7"
  }
 },
 "nbformat": 4,
 "nbformat_minor": 5
}
